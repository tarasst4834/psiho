{
 "cells": [
  {
   "cell_type": "code",
   "execution_count": 2,
   "id": "442d05ca62a19c65",
   "metadata": {
    "collapsed": true,
    "ExecuteTime": {
     "end_time": "2024-01-18T03:44:59.003565404Z",
     "start_time": "2024-01-18T03:44:58.653894310Z"
    }
   },
   "outputs": [],
   "source": [
    "import vk_api\n",
    "import pandas as pd\n",
    "import json\n",
    "import tqdm"
   ]
  },
  {
   "cell_type": "code",
   "execution_count": 8,
   "outputs": [],
   "source": [
    "\n",
    "# Ваш access token\n",
    "access_token = 'vk1.a.W7Dd87F9tTwraDI0JDCJrT4vZKNYVPTwIf8dZdLZMk5MqmTitG5jWgKhm1MnNq03vEl3LZHB9U23Ya0U05EEZj4B7EuGmg2JXvq0X3jEE-OlAgvbDyGfIdbLT0s-W8fu2e94b9BDX25vQt8BEy4moWQpGY5zKNx9G56gMKaZKUrbZb-n5aIQ7dwHXQ6Wkzrpui8qXx4q44b8Sv_1ACjdwg'"
   ],
   "metadata": {
    "collapsed": false,
    "ExecuteTime": {
     "end_time": "2024-01-18T03:45:13.875723707Z",
     "start_time": "2024-01-18T03:45:13.828904610Z"
    }
   },
   "id": "18555a5c196ca2f7"
  },
  {
   "cell_type": "code",
   "execution_count": 9,
   "outputs": [],
   "source": [
    "\n",
    "# Аутентификация\n",
    "vk_session = vk_api.VkApi(token=access_token)\n",
    "\n",
    "# Получение объекта API\n",
    "vk = vk_session.get_api()"
   ],
   "metadata": {
    "collapsed": false,
    "ExecuteTime": {
     "end_time": "2024-01-18T03:45:13.998511782Z",
     "start_time": "2024-01-18T03:45:13.955115106Z"
    }
   },
   "id": "9ee49325201db4b1"
  },
  {
   "cell_type": "code",
   "execution_count": 12,
   "outputs": [],
   "source": [
    "def get_posts(vk, owner_id, count=100):\n",
    "    posts = []\n",
    "    for i in range(0, count, 100):\n",
    "        posts.extend(vk.wall.get(owner_id='-' + owner_id, count=100, offset=i)['items'])\n",
    "    \n",
    "    return posts"
   ],
   "metadata": {
    "collapsed": false,
    "ExecuteTime": {
     "end_time": "2024-01-17T04:38:32.252916929Z",
     "start_time": "2024-01-17T04:38:32.247360022Z"
    }
   },
   "id": "5909b0606448f03"
  },
  {
   "cell_type": "code",
   "execution_count": null,
   "outputs": [],
   "source": [
    "def get_group_info(vk, group_id):\n",
    "    return vk.groups.getById(group_id=group_id)[0]"
   ],
   "metadata": {
    "collapsed": false
   },
   "id": "9224133b7b1fcba3"
  },
  {
   "cell_type": "code",
   "execution_count": 14,
   "outputs": [],
   "source": [
    "groups = {\n",
    "    'positive': {\n",
    "        'science': [\n",
    "            '151060688',\n",
    "            '112289703',\n",
    "            '99353432'\n",
    "        ],   \n",
    "        'art': [\n",
    "            '2980565',\n",
    "            '25813425',\n",
    "            '211793398'\n",
    "        ],\n",
    "        'sport': [\n",
    "            '30360552',\n",
    "            '217808619',\n",
    "            '47610600'\n",
    "        ]\n",
    "    },\n",
    "    'negative': {\n",
    "        'depression': [\n",
    "            '180719396',\n",
    "            '212525572',\n",
    "            '203151176'\n",
    "            \n",
    "        ],   \n",
    "        'aggression': [\n",
    "            '205871237',\n",
    "            '195771683',\n",
    "            '45799824'\n",
    "        ],\n",
    "        'trash': [\n",
    "            '23148107',\n",
    "            '173718071',\n",
    "            '170218556'\n",
    "        ]\n",
    "    }\n",
    "}"
   ],
   "metadata": {
    "collapsed": false,
    "ExecuteTime": {
     "end_time": "2024-01-17T05:22:24.189990625Z",
     "start_time": "2024-01-17T05:22:24.183876040Z"
    }
   },
   "id": "7a08fe5bb71b5394"
  },
  {
   "cell_type": "code",
   "execution_count": null,
   "outputs": [],
   "source": [
    "all_posts = []\n",
    "\n",
    "for tone in groups:\n",
    "    for topic in groups[tone]:\n",
    "        for group_id in groups[tone][topic]:\n",
    "            print(group_id)\n",
    "            posts = get_posts(vk, group_id, count=100)\n",
    "            for post in posts:\n",
    "                all_posts.append({\n",
    "                    'text': post['text'],\n",
    "                    'tone': tone,\n",
    "                    'topic': topic,\n",
    "                    'group_id': group_id,\n",
    "                    'comments_cnt:': post['comments']['count'],\n",
    "                    'likes_cnt': post['likes']['count'],\n",
    "                    'reposts_cnt': post['reposts']['count'],\n",
    "                    'from_id': post['from_id'],\n",
    "                    'post_id': post['id'],\n",
    "                    'views_cnt': post['views']['count'] if 'views' in post else 1,\n",
    "                })"
   ],
   "metadata": {
    "collapsed": false
   },
   "id": "423e253834d39406"
  },
  {
   "cell_type": "code",
   "execution_count": 50,
   "outputs": [],
   "source": [
    "with open('data/posts.json', 'w') as f:\n",
    "    json.dump(all_posts, f)"
   ],
   "metadata": {
    "collapsed": false,
    "ExecuteTime": {
     "end_time": "2024-01-17T05:58:01.882395563Z",
     "start_time": "2024-01-17T05:58:01.839242002Z"
    }
   },
   "id": "1d48fc191ed38fa2"
  },
  {
   "cell_type": "code",
   "execution_count": 51,
   "outputs": [],
   "source": [
    "posts_data = pd.json_normalize(all_posts)"
   ],
   "metadata": {
    "collapsed": false,
    "ExecuteTime": {
     "end_time": "2024-01-17T05:58:02.644209342Z",
     "start_time": "2024-01-17T05:58:02.633522466Z"
    }
   },
   "id": "fae53d42478e5986"
  },
  {
   "cell_type": "code",
   "execution_count": 48,
   "outputs": [],
   "source": [
    "#posts_data.to_csv('data/posts.csv')\n",
    "posts_data = pd.read_csv('data/posts.csv')"
   ],
   "metadata": {
    "collapsed": false,
    "ExecuteTime": {
     "end_time": "2024-01-18T04:18:35.817313451Z",
     "start_time": "2024-01-18T04:18:35.768511858Z"
    }
   },
   "id": "c4e31002872f8350"
  },
  {
   "cell_type": "code",
   "execution_count": null,
   "outputs": [],
   "source": [
    "posts_data"
   ],
   "metadata": {
    "collapsed": false
   },
   "id": "bdf7af25a4f7a031"
  },
  {
   "cell_type": "code",
   "execution_count": null,
   "outputs": [],
   "source": [
    "all_comments = []\n",
    "\n",
    "for rn, row in tqdm.tqdm(posts_data.iterrows(), total=posts_data.shape[0]):\n",
    "    try:\n",
    "        comments = vk.wall.getComments(owner_id=row['from_id'], post_id=row['post_id'], count=100)  # Пример \n",
    "    except:\n",
    "        print(row['from_id'], row['post_id'])\n",
    "        continue\n",
    "    for comment in comments['items']:\n",
    "        all_comments.append(comment)"
   ],
   "metadata": {
    "collapsed": false
   },
   "id": "e45319b58c5f6a7"
  },
  {
   "cell_type": "code",
   "execution_count": 51,
   "outputs": [],
   "source": [
    "with open('data/comments.json', 'w') as f:\n",
    "    json.dump(all_comments, f)"
   ],
   "metadata": {
    "collapsed": false,
    "ExecuteTime": {
     "end_time": "2024-01-18T04:40:52.570202880Z",
     "start_time": "2024-01-18T04:40:52.229559994Z"
    }
   },
   "id": "5a7e118674225428"
  },
  {
   "cell_type": "code",
   "execution_count": null,
   "outputs": [],
   "source": [
    "all_comments"
   ],
   "metadata": {
    "collapsed": false
   },
   "id": "acf52e38a3b40f90"
  },
  {
   "cell_type": "code",
   "execution_count": 15,
   "outputs": [],
   "source": [
    "posts = get_posts(vk, \"25813425\", count=10)"
   ],
   "metadata": {
    "collapsed": false,
    "ExecuteTime": {
     "end_time": "2024-01-17T05:23:08.700074509Z",
     "start_time": "2024-01-17T05:23:05.532782653Z"
    }
   },
   "id": "38e54ff3707eb5c4"
  },
  {
   "cell_type": "code",
   "execution_count": null,
   "outputs": [],
   "source": [
    "posts[0]['likes']"
   ],
   "metadata": {
    "collapsed": false
   },
   "id": "e555a0386196b386"
  },
  {
   "cell_type": "markdown",
   "source": [
    "## Get users"
   ],
   "metadata": {
    "collapsed": false
   },
   "id": "a3c3378c925e5c26"
  },
  {
   "cell_type": "code",
   "execution_count": 10,
   "outputs": [],
   "source": [
    "\n",
    "posts = pd.read_csv('data/posts.csv')\n",
    "with open('data/comments.json', 'r') as f:\n",
    "    comments = json.load(f)"
   ],
   "metadata": {
    "collapsed": false,
    "ExecuteTime": {
     "end_time": "2024-01-18T03:45:17.700654380Z",
     "start_time": "2024-01-18T03:45:17.509391571Z"
    }
   },
   "id": "4988efed924dfe"
  },
  {
   "cell_type": "code",
   "execution_count": 11,
   "outputs": [],
   "source": [
    "users_ids = set()\n",
    "for comment in comments:\n",
    "    users_ids.add(comment['from_id'])\n",
    "    \n",
    "for user_id in posts['from_id']:\n",
    "    users_ids.add(user_id)"
   ],
   "metadata": {
    "collapsed": false,
    "ExecuteTime": {
     "end_time": "2024-01-18T03:45:18.289233284Z",
     "start_time": "2024-01-18T03:45:18.283229395Z"
    }
   },
   "id": "4171d2d9509c5194"
  },
  {
   "cell_type": "code",
   "execution_count": null,
   "outputs": [],
   "source": [
    "len(users_ids)"
   ],
   "metadata": {
    "collapsed": false
   },
   "id": "b56e3c99f550f0a2"
  },
  {
   "cell_type": "code",
   "execution_count": 23,
   "outputs": [],
   "source": [
    "users = []\n",
    "\n",
    "for i in range(0, len(users_ids), 100):\n",
    "    user_id_str = ','.join([str(user_id) for user_id in list(users_ids)[i:i+100]])\n",
    "    try:\n",
    "        users_new = vk.users.get(user_ids=user_id_str, fields=['bdate', 'sex'])\n",
    "    except Exception as e:\n",
    "        print(e)\n",
    "        break\n",
    "    users.extend(users_new)"
   ],
   "metadata": {
    "collapsed": false,
    "ExecuteTime": {
     "end_time": "2024-01-18T03:53:44.818398541Z",
     "start_time": "2024-01-18T03:52:49.014584142Z"
    }
   },
   "id": "64cdfa9e572c6b8d"
  },
  {
   "cell_type": "code",
   "execution_count": 39,
   "outputs": [],
   "source": [
    "yang_users = []\n",
    "\n",
    "for user in users:\n",
    "    if 'bdate' in user and len(user['bdate'].split('.')) == 3:\n",
    "        if 2005 > int(user['bdate'].split('.')[2]) > 1987:\n",
    "            yang_users.append(user)"
   ],
   "metadata": {
    "collapsed": false,
    "ExecuteTime": {
     "end_time": "2024-01-18T04:09:36.310369817Z",
     "start_time": "2024-01-18T04:09:36.268969026Z"
    }
   },
   "id": "482dfb402744d362"
  },
  {
   "cell_type": "code",
   "execution_count": null,
   "outputs": [],
   "source": [
    "len(yang_users)"
   ],
   "metadata": {
    "collapsed": false
   },
   "id": "9cc67bba40b11538"
  },
  {
   "cell_type": "code",
   "execution_count": null,
   "outputs": [],
   "source": [
    "len(users)"
   ],
   "metadata": {
    "collapsed": false
   },
   "id": "88188ce0cc3e1daf"
  },
  {
   "cell_type": "code",
   "execution_count": 41,
   "outputs": [],
   "source": [
    "users_data = pd.json_normalize(yang_users)"
   ],
   "metadata": {
    "collapsed": false,
    "ExecuteTime": {
     "end_time": "2024-01-18T04:10:16.375435093Z",
     "start_time": "2024-01-18T04:10:16.331697562Z"
    }
   },
   "id": "3c9f3b175fcd76ad"
  },
  {
   "cell_type": "code",
   "execution_count": 42,
   "outputs": [],
   "source": [
    "users_data[['id', 'bdate', 'sex']].to_csv('data/users.csv', index=False)"
   ],
   "metadata": {
    "collapsed": false,
    "ExecuteTime": {
     "end_time": "2024-01-18T04:10:17.327444979Z",
     "start_time": "2024-01-18T04:10:17.317335631Z"
    }
   },
   "id": "f3cc77ad6896c83d"
  },
  {
   "cell_type": "code",
   "execution_count": null,
   "outputs": [],
   "source": [],
   "metadata": {
    "collapsed": false
   },
   "id": "75b491beed411ffa"
  }
 ],
 "metadata": {
  "kernelspec": {
   "display_name": "Python 3",
   "language": "python",
   "name": "python3"
  },
  "language_info": {
   "codemirror_mode": {
    "name": "ipython",
    "version": 2
   },
   "file_extension": ".py",
   "mimetype": "text/x-python",
   "name": "python",
   "nbconvert_exporter": "python",
   "pygments_lexer": "ipython2",
   "version": "2.7.6"
  }
 },
 "nbformat": 4,
 "nbformat_minor": 5
}
