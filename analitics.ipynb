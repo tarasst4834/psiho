{
 "cells": [
  {
   "cell_type": "code",
   "execution_count": 1,
   "id": "initial_id",
   "metadata": {
    "collapsed": true,
    "ExecuteTime": {
     "end_time": "2024-01-18T03:28:58.122636819Z",
     "start_time": "2024-01-18T03:28:57.583172728Z"
    }
   },
   "outputs": [],
   "source": [
    "import pandas as pd"
   ]
  },
  {
   "cell_type": "markdown",
   "source": [
    "## Исследуем CTR в репосты и лайки в зависимости от тональности поста"
   ],
   "metadata": {
    "collapsed": false
   },
   "id": "bbe1e073f4ba32c"
  },
  {
   "cell_type": "code",
   "execution_count": 52,
   "outputs": [],
   "source": [
    "df = pd.read_csv('data/posts.csv')"
   ],
   "metadata": {
    "collapsed": false,
    "ExecuteTime": {
     "end_time": "2024-01-18T04:46:33.456174787Z",
     "start_time": "2024-01-18T04:46:33.410610582Z"
    }
   },
   "id": "72be4061c35c9048"
  },
  {
   "cell_type": "code",
   "execution_count": 29,
   "outputs": [
    {
     "data": {
      "text/plain": "   Unnamed: 0                                               text      tone  \\\n0         901  Снова ушла в грусть. Может, Артём и прав. Лучш...  negative   \n1         908  Хочу поделиться, больше никогда не буду пользо...  negative   \n2         992  Всем привет, я думаю удалить все соц сети, всё...  negative   \n3         909                               Апооооооссууууууууум  negative   \n4         956  Доброго времени суток!\\nМеня беспокоит такая п...  negative   \n\n        topic   group_id  comments_cnt:  likes_cnt  reposts_cnt    from_id  \\\n0  depression  180719396              5          3            0  449884850   \n1  depression  180719396              7          5            0  803086736   \n2  depression  180719396              6         10            0  803086736   \n3  depression  180719396              0          2            0  458780080   \n4  depression  180719396              9          1            0  458780080   \n\n   post_id  views_cnt      bdate  sex  \n0   191038          1   2.8.2000    1  \n1   190911          1  30.1.1999    2  \n2   189882          1  30.1.1999    2  \n3   190904          1   6.6.1998    2  \n4   190315          1   6.6.1998    2  ",
      "text/html": "<div>\n<style scoped>\n    .dataframe tbody tr th:only-of-type {\n        vertical-align: middle;\n    }\n\n    .dataframe tbody tr th {\n        vertical-align: top;\n    }\n\n    .dataframe thead th {\n        text-align: right;\n    }\n</style>\n<table border=\"1\" class=\"dataframe\">\n  <thead>\n    <tr style=\"text-align: right;\">\n      <th></th>\n      <th>Unnamed: 0</th>\n      <th>text</th>\n      <th>tone</th>\n      <th>topic</th>\n      <th>group_id</th>\n      <th>comments_cnt:</th>\n      <th>likes_cnt</th>\n      <th>reposts_cnt</th>\n      <th>from_id</th>\n      <th>post_id</th>\n      <th>views_cnt</th>\n      <th>bdate</th>\n      <th>sex</th>\n    </tr>\n  </thead>\n  <tbody>\n    <tr>\n      <th>0</th>\n      <td>901</td>\n      <td>Снова ушла в грусть. Может, Артём и прав. Лучш...</td>\n      <td>negative</td>\n      <td>depression</td>\n      <td>180719396</td>\n      <td>5</td>\n      <td>3</td>\n      <td>0</td>\n      <td>449884850</td>\n      <td>191038</td>\n      <td>1</td>\n      <td>2.8.2000</td>\n      <td>1</td>\n    </tr>\n    <tr>\n      <th>1</th>\n      <td>908</td>\n      <td>Хочу поделиться, больше никогда не буду пользо...</td>\n      <td>negative</td>\n      <td>depression</td>\n      <td>180719396</td>\n      <td>7</td>\n      <td>5</td>\n      <td>0</td>\n      <td>803086736</td>\n      <td>190911</td>\n      <td>1</td>\n      <td>30.1.1999</td>\n      <td>2</td>\n    </tr>\n    <tr>\n      <th>2</th>\n      <td>992</td>\n      <td>Всем привет, я думаю удалить все соц сети, всё...</td>\n      <td>negative</td>\n      <td>depression</td>\n      <td>180719396</td>\n      <td>6</td>\n      <td>10</td>\n      <td>0</td>\n      <td>803086736</td>\n      <td>189882</td>\n      <td>1</td>\n      <td>30.1.1999</td>\n      <td>2</td>\n    </tr>\n    <tr>\n      <th>3</th>\n      <td>909</td>\n      <td>Апооооооссууууууууум</td>\n      <td>negative</td>\n      <td>depression</td>\n      <td>180719396</td>\n      <td>0</td>\n      <td>2</td>\n      <td>0</td>\n      <td>458780080</td>\n      <td>190904</td>\n      <td>1</td>\n      <td>6.6.1998</td>\n      <td>2</td>\n    </tr>\n    <tr>\n      <th>4</th>\n      <td>956</td>\n      <td>Доброго времени суток!\\nМеня беспокоит такая п...</td>\n      <td>negative</td>\n      <td>depression</td>\n      <td>180719396</td>\n      <td>9</td>\n      <td>1</td>\n      <td>0</td>\n      <td>458780080</td>\n      <td>190315</td>\n      <td>1</td>\n      <td>6.6.1998</td>\n      <td>2</td>\n    </tr>\n  </tbody>\n</table>\n</div>"
     },
     "execution_count": 29,
     "metadata": {},
     "output_type": "execute_result"
    }
   ],
   "source": [
    "df.head()"
   ],
   "metadata": {
    "collapsed": false,
    "ExecuteTime": {
     "end_time": "2024-01-18T04:41:39.777197183Z",
     "start_time": "2024-01-18T04:41:39.761075288Z"
    }
   },
   "id": "5590546049f6599d"
  },
  {
   "cell_type": "code",
   "execution_count": 4,
   "outputs": [],
   "source": [
    "df = df[df['views_cnt'] > 1]"
   ],
   "metadata": {
    "collapsed": false,
    "ExecuteTime": {
     "end_time": "2024-01-18T03:28:58.159360193Z",
     "start_time": "2024-01-18T03:28:58.128877562Z"
    }
   },
   "id": "2e4b6a36abde4417"
  },
  {
   "cell_type": "code",
   "execution_count": 5,
   "outputs": [],
   "source": [
    "df['likes_ctr'] = df['likes_cnt'] / df['views_cnt']\n",
    "df['reposts_ctr'] = df['reposts_cnt'] / df['views_cnt']"
   ],
   "metadata": {
    "collapsed": false,
    "ExecuteTime": {
     "end_time": "2024-01-18T03:28:58.445003757Z",
     "start_time": "2024-01-18T03:28:58.292434386Z"
    }
   },
   "id": "a17fdf49cbd6c661"
  },
  {
   "cell_type": "code",
   "execution_count": 7,
   "outputs": [],
   "source": [
    "# mean likes ctr in positive and negative posts\n",
    "ctr_data = df.groupby('tone').aggregate({'likes_ctr': 'mean', 'reposts_ctr': 'mean'})"
   ],
   "metadata": {
    "collapsed": false,
    "ExecuteTime": {
     "end_time": "2024-01-18T03:29:11.824402120Z",
     "start_time": "2024-01-18T03:29:11.809738183Z"
    }
   },
   "id": "13c899d30dbf5584"
  },
  {
   "cell_type": "code",
   "execution_count": 8,
   "outputs": [
    {
     "data": {
      "text/plain": "          likes_ctr  reposts_ctr\ntone                            \nnegative   0.034030     0.002114\npositive   0.019126     0.001666",
      "text/html": "<div>\n<style scoped>\n    .dataframe tbody tr th:only-of-type {\n        vertical-align: middle;\n    }\n\n    .dataframe tbody tr th {\n        vertical-align: top;\n    }\n\n    .dataframe thead th {\n        text-align: right;\n    }\n</style>\n<table border=\"1\" class=\"dataframe\">\n  <thead>\n    <tr style=\"text-align: right;\">\n      <th></th>\n      <th>likes_ctr</th>\n      <th>reposts_ctr</th>\n    </tr>\n    <tr>\n      <th>tone</th>\n      <th></th>\n      <th></th>\n    </tr>\n  </thead>\n  <tbody>\n    <tr>\n      <th>negative</th>\n      <td>0.034030</td>\n      <td>0.002114</td>\n    </tr>\n    <tr>\n      <th>positive</th>\n      <td>0.019126</td>\n      <td>0.001666</td>\n    </tr>\n  </tbody>\n</table>\n</div>"
     },
     "execution_count": 8,
     "metadata": {},
     "output_type": "execute_result"
    }
   ],
   "source": [
    "ctr_data"
   ],
   "metadata": {
    "collapsed": false,
    "ExecuteTime": {
     "end_time": "2024-01-18T03:29:17.759002016Z",
     "start_time": "2024-01-18T03:29:17.739231092Z"
    }
   },
   "id": "99bcf48847241cd8"
  },
  {
   "cell_type": "code",
   "execution_count": 9,
   "outputs": [],
   "source": [
    "ctr_data.to_csv('results/ctr_data.csv')"
   ],
   "metadata": {
    "collapsed": false,
    "ExecuteTime": {
     "end_time": "2024-01-18T03:29:45.772108666Z",
     "start_time": "2024-01-18T03:29:45.722815132Z"
    }
   },
   "id": "8ddbb4f31731d349"
  },
  {
   "cell_type": "code",
   "execution_count": 10,
   "outputs": [
    {
     "data": {
      "text/plain": "TtestResult(statistic=-7.5433311367445475, pvalue=7.532595569288191e-14, df=1647.0)"
     },
     "execution_count": 10,
     "metadata": {},
     "output_type": "execute_result"
    }
   ],
   "source": [
    "# test hypothesis that ctr is the same in positive and negative posts\n",
    "from scipy.stats import ttest_ind\n",
    "\n",
    "likes_ctr_pos = df[df['tone'] == 'positive']['likes_ctr']\n",
    "likes_ctr_neg = df[df['tone'] == 'negative']['likes_ctr']\n",
    "\n",
    "ttest_ind(likes_ctr_pos, likes_ctr_neg)"
   ],
   "metadata": {
    "collapsed": false,
    "ExecuteTime": {
     "end_time": "2024-01-18T03:29:51.182612705Z",
     "start_time": "2024-01-18T03:29:50.680200912Z"
    }
   },
   "id": "148d0d7239004b7a"
  },
  {
   "cell_type": "code",
   "execution_count": 11,
   "outputs": [
    {
     "data": {
      "text/plain": "TtestResult(statistic=-3.984262221877244, pvalue=7.064326607636651e-05, df=1647.0)"
     },
     "execution_count": 11,
     "metadata": {},
     "output_type": "execute_result"
    }
   ],
   "source": [
    "# test hypothesis that ctr is the same in positive and negative posts\n",
    "\n",
    "reposts_ctr_pos = df[df['tone'] == 'positive']['reposts_ctr']\n",
    "reposts_ctr_neg = df[df['tone'] == 'negative']['reposts_ctr']\n",
    "\n",
    "ttest_ind(reposts_ctr_pos, reposts_ctr_neg)"
   ],
   "metadata": {
    "collapsed": false,
    "ExecuteTime": {
     "end_time": "2024-01-18T03:29:52.917293114Z",
     "start_time": "2024-01-18T03:29:52.907875811Z"
    }
   },
   "id": "d1a7a3f4b69e167c"
  },
  {
   "cell_type": "markdown",
   "source": [
    "## Исследуем текст постов"
   ],
   "metadata": {
    "collapsed": false
   },
   "id": "d8f61c5a97cf1473"
  },
  {
   "cell_type": "code",
   "execution_count": 14,
   "outputs": [],
   "source": [
    "positive_posts = df[df['tone'] == 'positive']['text']\n",
    "negative_posts = df[df['tone'] == 'negative']['text']\n",
    "\n",
    "# percent of NaNs\n",
    "\n",
    "pos_nans = positive_posts.isna().sum() / len(positive_posts)\n",
    "neg_nans = negative_posts.isna().sum() / len(negative_posts)"
   ],
   "metadata": {
    "collapsed": false,
    "ExecuteTime": {
     "end_time": "2024-01-18T03:31:26.500161288Z",
     "start_time": "2024-01-18T03:31:26.493828076Z"
    }
   },
   "id": "852853a0c7c71bee"
  },
  {
   "cell_type": "code",
   "execution_count": 15,
   "outputs": [
    {
     "data": {
      "text/plain": "(0.21245828698553948, 0.44666666666666666)"
     },
     "execution_count": 15,
     "metadata": {},
     "output_type": "execute_result"
    }
   ],
   "source": [
    "pos_nans, neg_nans"
   ],
   "metadata": {
    "collapsed": false,
    "ExecuteTime": {
     "end_time": "2024-01-18T03:31:30.607540205Z",
     "start_time": "2024-01-18T03:31:30.558472646Z"
    }
   },
   "id": "7d448ecaa114f027"
  },
  {
   "cell_type": "code",
   "execution_count": 16,
   "outputs": [],
   "source": [
    "positive_posts = positive_posts.dropna()\n",
    "negative_posts = negative_posts.dropna()"
   ],
   "metadata": {
    "collapsed": false,
    "ExecuteTime": {
     "end_time": "2024-01-18T03:32:02.008053343Z",
     "start_time": "2024-01-18T03:32:01.963626203Z"
    }
   },
   "id": "426c664557424282"
  },
  {
   "cell_type": "code",
   "execution_count": 17,
   "outputs": [],
   "source": [
    "# analyze most common words and phrases in positive and negative posts\n",
    "\n",
    "def get_most_common_words(posts, n=100):\n",
    "    words = []\n",
    "    for post in posts:\n",
    "        words += post.split()\n",
    "    return pd.Series(words).value_counts()[:n]"
   ],
   "metadata": {
    "collapsed": false,
    "ExecuteTime": {
     "end_time": "2024-01-18T03:32:26.916840600Z",
     "start_time": "2024-01-18T03:32:26.883861964Z"
    }
   },
   "id": "27024ab1c2456d6e"
  },
  {
   "cell_type": "code",
   "execution_count": 18,
   "outputs": [
    {
     "data": {
      "text/plain": "—          499\nв          459\nи          376\nна         178\n-          139\n          ... \nуже         13\nли          13\nОн          13\nкоторый     12\nбыли        12\nName: count, Length: 100, dtype: int64"
     },
     "execution_count": 18,
     "metadata": {},
     "output_type": "execute_result"
    }
   ],
   "source": [
    "pos_words = get_most_common_words(positive_posts)\n",
    "neg_words = get_most_common_words(negative_posts)\n",
    "pos_words"
   ],
   "metadata": {
    "collapsed": false,
    "ExecuteTime": {
     "end_time": "2024-01-18T03:32:37.179060835Z",
     "start_time": "2024-01-18T03:32:37.136643115Z"
    }
   },
   "id": "b3fbb4cdb144362a"
  },
  {
   "cell_type": "code",
   "execution_count": 48,
   "outputs": [],
   "source": [
    "import json\n",
    "\n",
    "with open('data/comments.json', 'r') as f:\n",
    "    comments = json.loads(f.read())"
   ],
   "metadata": {
    "collapsed": false,
    "ExecuteTime": {
     "end_time": "2024-01-18T04:46:05.604792292Z",
     "start_time": "2024-01-18T04:46:05.433283027Z"
    }
   },
   "id": "b6af89826a161bda"
  },
  {
   "cell_type": "code",
   "execution_count": 49,
   "outputs": [],
   "source": [
    "comments = pd.json_normalize(comments)"
   ],
   "metadata": {
    "collapsed": false,
    "ExecuteTime": {
     "end_time": "2024-01-18T04:46:05.735332765Z",
     "start_time": "2024-01-18T04:46:05.616242109Z"
    }
   },
   "id": "fa859e0f2646a21d"
  },
  {
   "cell_type": "code",
   "execution_count": 50,
   "outputs": [
    {
     "data": {
      "text/plain": "(14007, 18)"
     },
     "execution_count": 50,
     "metadata": {},
     "output_type": "execute_result"
    }
   ],
   "source": [
    "comments.shape"
   ],
   "metadata": {
    "collapsed": false,
    "ExecuteTime": {
     "end_time": "2024-01-18T04:46:05.875337566Z",
     "start_time": "2024-01-18T04:46:05.874293493Z"
    }
   },
   "id": "34a2e024b5053470"
  },
  {
   "cell_type": "code",
   "execution_count": 60,
   "outputs": [],
   "source": [
    "comments = comments.merge(users_df, on='from_id', how='inner')"
   ],
   "metadata": {
    "collapsed": false,
    "ExecuteTime": {
     "end_time": "2024-01-18T04:50:22.246654797Z",
     "start_time": "2024-01-18T04:50:22.224902715Z"
    }
   },
   "id": "f7387cf71aa3b2d0"
  },
  {
   "cell_type": "code",
   "execution_count": 61,
   "outputs": [
    {
     "data": {
      "text/plain": "        id    from_id        date  \\\n0  1401322  414004816  1705452137   \n1  1401327  134843081  1705464956   \n2  1401259  155433074  1705400850   \n3  1400984  155433074  1705213199   \n4  1401209   23518959  1705351842   \n\n                                                text    post_id     owner_id  \\\n0  Скиньте мне инструкцию. Не могу ответить ником...  1401319.0 -151060688.0   \n1                                         Гениально!  1401319.0 -151060688.0   \n2  Ну тут скорее: \"Он сам все сделает, а я пока ф...  1401214.0 -151060688.0   \n3  Главное: Показать сопернику, что ты настроен с...  1400980.0 -151060688.0   \n4                        Жалко тех, кто верит в это.  1401190.0 -151060688.0   \n\n  parents_stack  thread.count thread.items  thread.can_post  \\\n0            []             0           []             True   \n1            []             0           []             True   \n2            []             0           []             True   \n3            []             0           []             True   \n4            []             1           []             True   \n\n   thread.show_reply_button thread.groups_can_post thread.next_from  \\\n0                      True                   True              NaN   \n1                      True                   True              NaN   \n2                      True                   True              NaN   \n3                      True                   True              NaN   \n4                      True                   True        next/0//0   \n\n  attachments attachments_meta.primary_mode deleted is_from_post_author  \\\n0         NaN                           NaN     NaN                 NaN   \n1         NaN                           NaN     NaN                 NaN   \n2         NaN                           NaN     NaN                 NaN   \n3         NaN                           NaN     NaN                 NaN   \n4         NaN                           NaN     NaN                 NaN   \n\n  is_negative      bdate  sex  \n0         NaN  23.3.1999    2  \n1         NaN   5.3.1991    2  \n2         NaN  11.8.1999    2  \n3         NaN  11.8.1999    2  \n4         NaN  11.4.1989    2  ",
      "text/html": "<div>\n<style scoped>\n    .dataframe tbody tr th:only-of-type {\n        vertical-align: middle;\n    }\n\n    .dataframe tbody tr th {\n        vertical-align: top;\n    }\n\n    .dataframe thead th {\n        text-align: right;\n    }\n</style>\n<table border=\"1\" class=\"dataframe\">\n  <thead>\n    <tr style=\"text-align: right;\">\n      <th></th>\n      <th>id</th>\n      <th>from_id</th>\n      <th>date</th>\n      <th>text</th>\n      <th>post_id</th>\n      <th>owner_id</th>\n      <th>parents_stack</th>\n      <th>thread.count</th>\n      <th>thread.items</th>\n      <th>thread.can_post</th>\n      <th>thread.show_reply_button</th>\n      <th>thread.groups_can_post</th>\n      <th>thread.next_from</th>\n      <th>attachments</th>\n      <th>attachments_meta.primary_mode</th>\n      <th>deleted</th>\n      <th>is_from_post_author</th>\n      <th>is_negative</th>\n      <th>bdate</th>\n      <th>sex</th>\n    </tr>\n  </thead>\n  <tbody>\n    <tr>\n      <th>0</th>\n      <td>1401322</td>\n      <td>414004816</td>\n      <td>1705452137</td>\n      <td>Скиньте мне инструкцию. Не могу ответить ником...</td>\n      <td>1401319.0</td>\n      <td>-151060688.0</td>\n      <td>[]</td>\n      <td>0</td>\n      <td>[]</td>\n      <td>True</td>\n      <td>True</td>\n      <td>True</td>\n      <td>NaN</td>\n      <td>NaN</td>\n      <td>NaN</td>\n      <td>NaN</td>\n      <td>NaN</td>\n      <td>NaN</td>\n      <td>23.3.1999</td>\n      <td>2</td>\n    </tr>\n    <tr>\n      <th>1</th>\n      <td>1401327</td>\n      <td>134843081</td>\n      <td>1705464956</td>\n      <td>Гениально!</td>\n      <td>1401319.0</td>\n      <td>-151060688.0</td>\n      <td>[]</td>\n      <td>0</td>\n      <td>[]</td>\n      <td>True</td>\n      <td>True</td>\n      <td>True</td>\n      <td>NaN</td>\n      <td>NaN</td>\n      <td>NaN</td>\n      <td>NaN</td>\n      <td>NaN</td>\n      <td>NaN</td>\n      <td>5.3.1991</td>\n      <td>2</td>\n    </tr>\n    <tr>\n      <th>2</th>\n      <td>1401259</td>\n      <td>155433074</td>\n      <td>1705400850</td>\n      <td>Ну тут скорее: \"Он сам все сделает, а я пока ф...</td>\n      <td>1401214.0</td>\n      <td>-151060688.0</td>\n      <td>[]</td>\n      <td>0</td>\n      <td>[]</td>\n      <td>True</td>\n      <td>True</td>\n      <td>True</td>\n      <td>NaN</td>\n      <td>NaN</td>\n      <td>NaN</td>\n      <td>NaN</td>\n      <td>NaN</td>\n      <td>NaN</td>\n      <td>11.8.1999</td>\n      <td>2</td>\n    </tr>\n    <tr>\n      <th>3</th>\n      <td>1400984</td>\n      <td>155433074</td>\n      <td>1705213199</td>\n      <td>Главное: Показать сопернику, что ты настроен с...</td>\n      <td>1400980.0</td>\n      <td>-151060688.0</td>\n      <td>[]</td>\n      <td>0</td>\n      <td>[]</td>\n      <td>True</td>\n      <td>True</td>\n      <td>True</td>\n      <td>NaN</td>\n      <td>NaN</td>\n      <td>NaN</td>\n      <td>NaN</td>\n      <td>NaN</td>\n      <td>NaN</td>\n      <td>11.8.1999</td>\n      <td>2</td>\n    </tr>\n    <tr>\n      <th>4</th>\n      <td>1401209</td>\n      <td>23518959</td>\n      <td>1705351842</td>\n      <td>Жалко тех, кто верит в это.</td>\n      <td>1401190.0</td>\n      <td>-151060688.0</td>\n      <td>[]</td>\n      <td>1</td>\n      <td>[]</td>\n      <td>True</td>\n      <td>True</td>\n      <td>True</td>\n      <td>next/0//0</td>\n      <td>NaN</td>\n      <td>NaN</td>\n      <td>NaN</td>\n      <td>NaN</td>\n      <td>NaN</td>\n      <td>11.4.1989</td>\n      <td>2</td>\n    </tr>\n  </tbody>\n</table>\n</div>"
     },
     "execution_count": 61,
     "metadata": {},
     "output_type": "execute_result"
    }
   ],
   "source": [
    "comments.head()"
   ],
   "metadata": {
    "collapsed": false,
    "ExecuteTime": {
     "end_time": "2024-01-18T04:50:23.681624412Z",
     "start_time": "2024-01-18T04:50:23.667849658Z"
    }
   },
   "id": "12a27523e1772ad9"
  },
  {
   "cell_type": "code",
   "execution_count": 65,
   "outputs": [
    {
     "data": {
      "text/plain": "      Unnamed: 0                                               text      tone  \\\n0              0                              Верил в него до конца  positive   \n1              1                                                NaN  positive   \n2              2                                                NaN  positive   \n3              3                                                NaN  positive   \n4              4                                                NaN  positive   \n...          ...                                                ...       ...   \n1743        1743  Норильский очевидец спас мужика, который напал...  negative   \n1744        1744  Один удар и ты пропал.\\n\\nЖенщина одним ударом...  negative   \n1745        1745  Всю кровать кровью залил.\\n\\nМуж Екатерины Вол...  negative   \n1746        1746  Девушка нашла способ как можно ограбление оста...  negative   \n1747        1747  Врачи по ошибке сделали ей сногсшибательную гр...  negative   \n\n        topic   group_id  comments_cnt:  likes_cnt  reposts_cnt    from_id  \\\n0     science  151060688              0         11            7 -151060688   \n1     science  151060688              2          6           22 -151060688   \n2     science  151060688              0          0            0 -151060688   \n3     science  151060688              6         60            9 -151060688   \n4     science  151060688              1         12            1 -151060688   \n...       ...        ...            ...        ...          ...        ...   \n1743    trash  170218556            125        517          103 -170218556   \n1744    trash  170218556              9         74           78 -170218556   \n1745    trash  170218556             76        222           25 -170218556   \n1746    trash  170218556             45        587          317 -170218556   \n1747    trash  170218556             35        184           93 -170218556   \n\n      post_id  views_cnt  \n0     1401332       1733  \n1     1401328       2783  \n2     1401324       3035  \n3     1401319       6979  \n4     1401316       3097  \n...       ...        ...  \n1743  2322968     203545  \n1744  2322544      68703  \n1745  2322269     162040  \n1746  2322046     163855  \n1747  2321983     241859  \n\n[1748 rows x 11 columns]",
      "text/html": "<div>\n<style scoped>\n    .dataframe tbody tr th:only-of-type {\n        vertical-align: middle;\n    }\n\n    .dataframe tbody tr th {\n        vertical-align: top;\n    }\n\n    .dataframe thead th {\n        text-align: right;\n    }\n</style>\n<table border=\"1\" class=\"dataframe\">\n  <thead>\n    <tr style=\"text-align: right;\">\n      <th></th>\n      <th>Unnamed: 0</th>\n      <th>text</th>\n      <th>tone</th>\n      <th>topic</th>\n      <th>group_id</th>\n      <th>comments_cnt:</th>\n      <th>likes_cnt</th>\n      <th>reposts_cnt</th>\n      <th>from_id</th>\n      <th>post_id</th>\n      <th>views_cnt</th>\n    </tr>\n  </thead>\n  <tbody>\n    <tr>\n      <th>0</th>\n      <td>0</td>\n      <td>Верил в него до конца</td>\n      <td>positive</td>\n      <td>science</td>\n      <td>151060688</td>\n      <td>0</td>\n      <td>11</td>\n      <td>7</td>\n      <td>-151060688</td>\n      <td>1401332</td>\n      <td>1733</td>\n    </tr>\n    <tr>\n      <th>1</th>\n      <td>1</td>\n      <td>NaN</td>\n      <td>positive</td>\n      <td>science</td>\n      <td>151060688</td>\n      <td>2</td>\n      <td>6</td>\n      <td>22</td>\n      <td>-151060688</td>\n      <td>1401328</td>\n      <td>2783</td>\n    </tr>\n    <tr>\n      <th>2</th>\n      <td>2</td>\n      <td>NaN</td>\n      <td>positive</td>\n      <td>science</td>\n      <td>151060688</td>\n      <td>0</td>\n      <td>0</td>\n      <td>0</td>\n      <td>-151060688</td>\n      <td>1401324</td>\n      <td>3035</td>\n    </tr>\n    <tr>\n      <th>3</th>\n      <td>3</td>\n      <td>NaN</td>\n      <td>positive</td>\n      <td>science</td>\n      <td>151060688</td>\n      <td>6</td>\n      <td>60</td>\n      <td>9</td>\n      <td>-151060688</td>\n      <td>1401319</td>\n      <td>6979</td>\n    </tr>\n    <tr>\n      <th>4</th>\n      <td>4</td>\n      <td>NaN</td>\n      <td>positive</td>\n      <td>science</td>\n      <td>151060688</td>\n      <td>1</td>\n      <td>12</td>\n      <td>1</td>\n      <td>-151060688</td>\n      <td>1401316</td>\n      <td>3097</td>\n    </tr>\n    <tr>\n      <th>...</th>\n      <td>...</td>\n      <td>...</td>\n      <td>...</td>\n      <td>...</td>\n      <td>...</td>\n      <td>...</td>\n      <td>...</td>\n      <td>...</td>\n      <td>...</td>\n      <td>...</td>\n      <td>...</td>\n    </tr>\n    <tr>\n      <th>1743</th>\n      <td>1743</td>\n      <td>Норильский очевидец спас мужика, который напал...</td>\n      <td>negative</td>\n      <td>trash</td>\n      <td>170218556</td>\n      <td>125</td>\n      <td>517</td>\n      <td>103</td>\n      <td>-170218556</td>\n      <td>2322968</td>\n      <td>203545</td>\n    </tr>\n    <tr>\n      <th>1744</th>\n      <td>1744</td>\n      <td>Один удар и ты пропал.\\n\\nЖенщина одним ударом...</td>\n      <td>negative</td>\n      <td>trash</td>\n      <td>170218556</td>\n      <td>9</td>\n      <td>74</td>\n      <td>78</td>\n      <td>-170218556</td>\n      <td>2322544</td>\n      <td>68703</td>\n    </tr>\n    <tr>\n      <th>1745</th>\n      <td>1745</td>\n      <td>Всю кровать кровью залил.\\n\\nМуж Екатерины Вол...</td>\n      <td>negative</td>\n      <td>trash</td>\n      <td>170218556</td>\n      <td>76</td>\n      <td>222</td>\n      <td>25</td>\n      <td>-170218556</td>\n      <td>2322269</td>\n      <td>162040</td>\n    </tr>\n    <tr>\n      <th>1746</th>\n      <td>1746</td>\n      <td>Девушка нашла способ как можно ограбление оста...</td>\n      <td>negative</td>\n      <td>trash</td>\n      <td>170218556</td>\n      <td>45</td>\n      <td>587</td>\n      <td>317</td>\n      <td>-170218556</td>\n      <td>2322046</td>\n      <td>163855</td>\n    </tr>\n    <tr>\n      <th>1747</th>\n      <td>1747</td>\n      <td>Врачи по ошибке сделали ей сногсшибательную гр...</td>\n      <td>negative</td>\n      <td>trash</td>\n      <td>170218556</td>\n      <td>35</td>\n      <td>184</td>\n      <td>93</td>\n      <td>-170218556</td>\n      <td>2321983</td>\n      <td>241859</td>\n    </tr>\n  </tbody>\n</table>\n<p>1748 rows × 11 columns</p>\n</div>"
     },
     "execution_count": 65,
     "metadata": {},
     "output_type": "execute_result"
    }
   ],
   "source": [
    "df"
   ],
   "metadata": {
    "collapsed": false,
    "ExecuteTime": {
     "end_time": "2024-01-18T04:51:44.231058556Z",
     "start_time": "2024-01-18T04:51:44.182461987Z"
    }
   },
   "id": "5dce9d3a9d7a5063"
  },
  {
   "cell_type": "code",
   "execution_count": 67,
   "outputs": [],
   "source": [
    "comments.merge(df.drop_duplicates(subset=['post_id'])[['topic', 'tone', 'group_id', 'post_id']], on='post_id', how='inner').to_csv('results/comments_enriched.csv', index=False)"
   ],
   "metadata": {
    "collapsed": false,
    "ExecuteTime": {
     "end_time": "2024-01-18T04:52:33.182927297Z",
     "start_time": "2024-01-18T04:52:33.131730030Z"
    }
   },
   "id": "5854644b3f4a3df2"
  },
  {
   "cell_type": "code",
   "execution_count": 68,
   "outputs": [],
   "source": [
    "comments = pd.read_csv('results/comments_enriched.csv')"
   ],
   "metadata": {
    "collapsed": false,
    "ExecuteTime": {
     "end_time": "2024-01-18T04:52:50.070717783Z",
     "start_time": "2024-01-18T04:52:50.032828857Z"
    }
   },
   "id": "b4e533b6a7bdbfe0"
  },
  {
   "cell_type": "code",
   "execution_count": 69,
   "outputs": [
    {
     "data": {
      "text/plain": "           id    from_id        date  \\\n0     1401322  414004816  1705452137   \n1     1401327  134843081  1705464956   \n2     1401259  155433074  1705400850   \n3     1400984  155433074  1705213199   \n4     1401134  783609516  1705309381   \n...       ...        ...         ...   \n2691  2322056  197839453  1702539416   \n2692  2322063   57176096  1702540111   \n2693  2322064  702761779  1702540138   \n2694  2322241  452375868  1702559774   \n2695  2322267  534866686  1702563203   \n\n                                                   text    post_id  \\\n0     Скиньте мне инструкцию. Не могу ответить ником...  1401319.0   \n1                                            Гениально!  1401319.0   \n2     Ну тут скорее: \"Он сам все сделает, а я пока ф...  1401214.0   \n3     Главное: Показать сопернику, что ты настроен с...  1400980.0   \n4                               Новый вид единоборств 😁  1400980.0   \n...                                                 ...        ...   \n2691                                  Жопа как у лошади  2322046.0   \n2692                                              🤣🤣🤣🤣🤣  2322046.0   \n2693                                Любовь победит ЗЛО👍  2322046.0   \n2694                                            Премию!  2322046.0   \n2695                                                😆😆😆  2322046.0   \n\n         owner_id parents_stack  thread.count thread.items  thread.can_post  \\\n0    -151060688.0            []             0           []             True   \n1    -151060688.0            []             0           []             True   \n2    -151060688.0            []             0           []             True   \n3    -151060688.0            []             0           []             True   \n4    -151060688.0            []             0           []             True   \n...           ...           ...           ...          ...              ...   \n2691 -170218556.0            []            12           []             True   \n2692 -170218556.0            []             0           []             True   \n2693 -170218556.0            []             0           []             True   \n2694 -170218556.0            []             0           []             True   \n2695 -170218556.0            []             0           []             True   \n\n      ...  attachments attachments_meta.primary_mode deleted  \\\n0     ...          NaN                           NaN     NaN   \n1     ...          NaN                           NaN     NaN   \n2     ...          NaN                           NaN     NaN   \n3     ...          NaN                           NaN     NaN   \n4     ...          NaN                           NaN     NaN   \n...   ...          ...                           ...     ...   \n2691  ...          NaN                           NaN     NaN   \n2692  ...          NaN                           NaN     NaN   \n2693  ...          NaN                           NaN     NaN   \n2694  ...          NaN                           NaN     NaN   \n2695  ...          NaN                           NaN     NaN   \n\n     is_from_post_author is_negative      bdate  sex    topic      tone  \\\n0                    NaN         NaN  23.3.1999    2  science  positive   \n1                    NaN         NaN   5.3.1991    2  science  positive   \n2                    NaN         NaN  11.8.1999    2  science  positive   \n3                    NaN         NaN  11.8.1999    2  science  positive   \n4                    NaN         NaN   3.9.1995    2  science  positive   \n...                  ...         ...        ...  ...      ...       ...   \n2691                 NaN         NaN  10.6.1996    1    trash  negative   \n2692                 NaN         NaN  27.2.1991    2    trash  negative   \n2693                 NaN         NaN  19.5.1988    2    trash  negative   \n2694                 NaN         NaN  13.2.2001    1    trash  negative   \n2695                 NaN         NaN  12.7.1989    1    trash  negative   \n\n       group_id  \n0     151060688  \n1     151060688  \n2     151060688  \n3     151060688  \n4     151060688  \n...         ...  \n2691  170218556  \n2692  170218556  \n2693  170218556  \n2694  170218556  \n2695  170218556  \n\n[2696 rows x 23 columns]",
      "text/html": "<div>\n<style scoped>\n    .dataframe tbody tr th:only-of-type {\n        vertical-align: middle;\n    }\n\n    .dataframe tbody tr th {\n        vertical-align: top;\n    }\n\n    .dataframe thead th {\n        text-align: right;\n    }\n</style>\n<table border=\"1\" class=\"dataframe\">\n  <thead>\n    <tr style=\"text-align: right;\">\n      <th></th>\n      <th>id</th>\n      <th>from_id</th>\n      <th>date</th>\n      <th>text</th>\n      <th>post_id</th>\n      <th>owner_id</th>\n      <th>parents_stack</th>\n      <th>thread.count</th>\n      <th>thread.items</th>\n      <th>thread.can_post</th>\n      <th>...</th>\n      <th>attachments</th>\n      <th>attachments_meta.primary_mode</th>\n      <th>deleted</th>\n      <th>is_from_post_author</th>\n      <th>is_negative</th>\n      <th>bdate</th>\n      <th>sex</th>\n      <th>topic</th>\n      <th>tone</th>\n      <th>group_id</th>\n    </tr>\n  </thead>\n  <tbody>\n    <tr>\n      <th>0</th>\n      <td>1401322</td>\n      <td>414004816</td>\n      <td>1705452137</td>\n      <td>Скиньте мне инструкцию. Не могу ответить ником...</td>\n      <td>1401319.0</td>\n      <td>-151060688.0</td>\n      <td>[]</td>\n      <td>0</td>\n      <td>[]</td>\n      <td>True</td>\n      <td>...</td>\n      <td>NaN</td>\n      <td>NaN</td>\n      <td>NaN</td>\n      <td>NaN</td>\n      <td>NaN</td>\n      <td>23.3.1999</td>\n      <td>2</td>\n      <td>science</td>\n      <td>positive</td>\n      <td>151060688</td>\n    </tr>\n    <tr>\n      <th>1</th>\n      <td>1401327</td>\n      <td>134843081</td>\n      <td>1705464956</td>\n      <td>Гениально!</td>\n      <td>1401319.0</td>\n      <td>-151060688.0</td>\n      <td>[]</td>\n      <td>0</td>\n      <td>[]</td>\n      <td>True</td>\n      <td>...</td>\n      <td>NaN</td>\n      <td>NaN</td>\n      <td>NaN</td>\n      <td>NaN</td>\n      <td>NaN</td>\n      <td>5.3.1991</td>\n      <td>2</td>\n      <td>science</td>\n      <td>positive</td>\n      <td>151060688</td>\n    </tr>\n    <tr>\n      <th>2</th>\n      <td>1401259</td>\n      <td>155433074</td>\n      <td>1705400850</td>\n      <td>Ну тут скорее: \"Он сам все сделает, а я пока ф...</td>\n      <td>1401214.0</td>\n      <td>-151060688.0</td>\n      <td>[]</td>\n      <td>0</td>\n      <td>[]</td>\n      <td>True</td>\n      <td>...</td>\n      <td>NaN</td>\n      <td>NaN</td>\n      <td>NaN</td>\n      <td>NaN</td>\n      <td>NaN</td>\n      <td>11.8.1999</td>\n      <td>2</td>\n      <td>science</td>\n      <td>positive</td>\n      <td>151060688</td>\n    </tr>\n    <tr>\n      <th>3</th>\n      <td>1400984</td>\n      <td>155433074</td>\n      <td>1705213199</td>\n      <td>Главное: Показать сопернику, что ты настроен с...</td>\n      <td>1400980.0</td>\n      <td>-151060688.0</td>\n      <td>[]</td>\n      <td>0</td>\n      <td>[]</td>\n      <td>True</td>\n      <td>...</td>\n      <td>NaN</td>\n      <td>NaN</td>\n      <td>NaN</td>\n      <td>NaN</td>\n      <td>NaN</td>\n      <td>11.8.1999</td>\n      <td>2</td>\n      <td>science</td>\n      <td>positive</td>\n      <td>151060688</td>\n    </tr>\n    <tr>\n      <th>4</th>\n      <td>1401134</td>\n      <td>783609516</td>\n      <td>1705309381</td>\n      <td>Новый вид единоборств 😁</td>\n      <td>1400980.0</td>\n      <td>-151060688.0</td>\n      <td>[]</td>\n      <td>0</td>\n      <td>[]</td>\n      <td>True</td>\n      <td>...</td>\n      <td>NaN</td>\n      <td>NaN</td>\n      <td>NaN</td>\n      <td>NaN</td>\n      <td>NaN</td>\n      <td>3.9.1995</td>\n      <td>2</td>\n      <td>science</td>\n      <td>positive</td>\n      <td>151060688</td>\n    </tr>\n    <tr>\n      <th>...</th>\n      <td>...</td>\n      <td>...</td>\n      <td>...</td>\n      <td>...</td>\n      <td>...</td>\n      <td>...</td>\n      <td>...</td>\n      <td>...</td>\n      <td>...</td>\n      <td>...</td>\n      <td>...</td>\n      <td>...</td>\n      <td>...</td>\n      <td>...</td>\n      <td>...</td>\n      <td>...</td>\n      <td>...</td>\n      <td>...</td>\n      <td>...</td>\n      <td>...</td>\n      <td>...</td>\n    </tr>\n    <tr>\n      <th>2691</th>\n      <td>2322056</td>\n      <td>197839453</td>\n      <td>1702539416</td>\n      <td>Жопа как у лошади</td>\n      <td>2322046.0</td>\n      <td>-170218556.0</td>\n      <td>[]</td>\n      <td>12</td>\n      <td>[]</td>\n      <td>True</td>\n      <td>...</td>\n      <td>NaN</td>\n      <td>NaN</td>\n      <td>NaN</td>\n      <td>NaN</td>\n      <td>NaN</td>\n      <td>10.6.1996</td>\n      <td>1</td>\n      <td>trash</td>\n      <td>negative</td>\n      <td>170218556</td>\n    </tr>\n    <tr>\n      <th>2692</th>\n      <td>2322063</td>\n      <td>57176096</td>\n      <td>1702540111</td>\n      <td>🤣🤣🤣🤣🤣</td>\n      <td>2322046.0</td>\n      <td>-170218556.0</td>\n      <td>[]</td>\n      <td>0</td>\n      <td>[]</td>\n      <td>True</td>\n      <td>...</td>\n      <td>NaN</td>\n      <td>NaN</td>\n      <td>NaN</td>\n      <td>NaN</td>\n      <td>NaN</td>\n      <td>27.2.1991</td>\n      <td>2</td>\n      <td>trash</td>\n      <td>negative</td>\n      <td>170218556</td>\n    </tr>\n    <tr>\n      <th>2693</th>\n      <td>2322064</td>\n      <td>702761779</td>\n      <td>1702540138</td>\n      <td>Любовь победит ЗЛО👍</td>\n      <td>2322046.0</td>\n      <td>-170218556.0</td>\n      <td>[]</td>\n      <td>0</td>\n      <td>[]</td>\n      <td>True</td>\n      <td>...</td>\n      <td>NaN</td>\n      <td>NaN</td>\n      <td>NaN</td>\n      <td>NaN</td>\n      <td>NaN</td>\n      <td>19.5.1988</td>\n      <td>2</td>\n      <td>trash</td>\n      <td>negative</td>\n      <td>170218556</td>\n    </tr>\n    <tr>\n      <th>2694</th>\n      <td>2322241</td>\n      <td>452375868</td>\n      <td>1702559774</td>\n      <td>Премию!</td>\n      <td>2322046.0</td>\n      <td>-170218556.0</td>\n      <td>[]</td>\n      <td>0</td>\n      <td>[]</td>\n      <td>True</td>\n      <td>...</td>\n      <td>NaN</td>\n      <td>NaN</td>\n      <td>NaN</td>\n      <td>NaN</td>\n      <td>NaN</td>\n      <td>13.2.2001</td>\n      <td>1</td>\n      <td>trash</td>\n      <td>negative</td>\n      <td>170218556</td>\n    </tr>\n    <tr>\n      <th>2695</th>\n      <td>2322267</td>\n      <td>534866686</td>\n      <td>1702563203</td>\n      <td>😆😆😆</td>\n      <td>2322046.0</td>\n      <td>-170218556.0</td>\n      <td>[]</td>\n      <td>0</td>\n      <td>[]</td>\n      <td>True</td>\n      <td>...</td>\n      <td>NaN</td>\n      <td>NaN</td>\n      <td>NaN</td>\n      <td>NaN</td>\n      <td>NaN</td>\n      <td>12.7.1989</td>\n      <td>1</td>\n      <td>trash</td>\n      <td>negative</td>\n      <td>170218556</td>\n    </tr>\n  </tbody>\n</table>\n<p>2696 rows × 23 columns</p>\n</div>"
     },
     "execution_count": 69,
     "metadata": {},
     "output_type": "execute_result"
    }
   ],
   "source": [
    "comments"
   ],
   "metadata": {
    "collapsed": false,
    "ExecuteTime": {
     "end_time": "2024-01-18T04:53:05.838558776Z",
     "start_time": "2024-01-18T04:53:05.815915113Z"
    }
   },
   "id": "2613b102438bea2c"
  },
  {
   "cell_type": "code",
   "execution_count": 122,
   "outputs": [
    {
     "data": {
      "text/plain": "(1054, 24)"
     },
     "execution_count": 122,
     "metadata": {},
     "output_type": "execute_result"
    }
   ],
   "source": [
    "comments[comments['tone'] == 'positive'].shape"
   ],
   "metadata": {
    "collapsed": false,
    "ExecuteTime": {
     "end_time": "2024-01-18T08:12:15.967456334Z",
     "start_time": "2024-01-18T08:12:15.945855508Z"
    }
   },
   "id": "2d47e5f3eb90675"
  },
  {
   "cell_type": "code",
   "execution_count": 123,
   "outputs": [
    {
     "data": {
      "text/plain": "(1636, 24)"
     },
     "execution_count": 123,
     "metadata": {},
     "output_type": "execute_result"
    }
   ],
   "source": [
    "comments[comments['tone'] == 'negative'].shape\n"
   ],
   "metadata": {
    "collapsed": false,
    "ExecuteTime": {
     "end_time": "2024-01-18T08:12:24.349552602Z",
     "start_time": "2024-01-18T08:12:24.330304521Z"
    }
   },
   "id": "1f10910b167ddc6f"
  },
  {
   "cell_type": "markdown",
   "source": [
    "## Исследуем комментарии"
   ],
   "metadata": {
    "collapsed": false
   },
   "id": "bf453ca612ca73dd"
  },
  {
   "cell_type": "code",
   "execution_count": 75,
   "outputs": [
    {
     "name": "stderr",
     "output_type": "stream",
     "text": [
      "/tmp/ipykernel_6112/3488580059.py:1: UserWarning: Parsing dates in %d.%m.%Y format when dayfirst=False (the default) was specified. Pass `dayfirst=True` or specify a format to silence this warning.\n",
      "  comments['age'] = ((pd.to_datetime(comments['date'], unit='s') - pd.to_datetime(comments['bdate'])).dt.days / 365).apply(lambda x: round(x))\n"
     ]
    }
   ],
   "source": [
    "comments['age'] = ((pd.to_datetime(comments['date'], unit='s') - pd.to_datetime(comments['bdate'])).dt.days / 365).apply(lambda x: round(x))"
   ],
   "metadata": {
    "collapsed": false,
    "ExecuteTime": {
     "end_time": "2024-01-18T04:55:53.370996465Z",
     "start_time": "2024-01-18T04:55:53.328015823Z"
    }
   },
   "id": "49eb2d1e4183c4c3"
  },
  {
   "cell_type": "code",
   "execution_count": 79,
   "outputs": [],
   "source": [
    "# only age >= 18\n",
    "\n",
    "comments = comments[comments['age'] >= 18]"
   ],
   "metadata": {
    "collapsed": false,
    "ExecuteTime": {
     "end_time": "2024-01-18T04:57:54.854539888Z",
     "start_time": "2024-01-18T04:57:54.808650410Z"
    }
   },
   "id": "2cc7077ccf8cafe8"
  },
  {
   "cell_type": "markdown",
   "source": [],
   "metadata": {
    "collapsed": false
   },
   "id": "f160aee7778afe5d"
  },
  {
   "cell_type": "code",
   "execution_count": 92,
   "outputs": [
    {
     "name": "stderr",
     "output_type": "stream",
     "text": [
      "/tmp/ipykernel_6112/1397629192.py:10: UserWarning: set_ticklabels() should only be used with a fixed number of ticks, i.e. after set_ticks() or using a FixedLocator.\n",
      "  ax.set_xticklabels(['Позитивная', 'Негативная'])\n"
     ]
    },
    {
     "data": {
      "text/plain": "<Figure size 640x480 with 1 Axes>",
      "image/png": "[encoded data removed]"
     },
     "metadata": {},
     "output_type": "display_data"
    }
   ],
   "source": [
    "# distribution of age in positive and negative groups using seaborn with numeric labels on picture\n",
    "\n",
    "import seaborn as sns\n",
    "import matplotlib.pyplot as plt\n",
    "\n",
    "sns.set_theme(style=\"whitegrid\")\n",
    "\n",
    "ax = sns.boxplot(x=\"tone\", y=\"age\", data=comments)\n",
    "ax.set(xlabel='Тональность группы', ylabel='Возраст')\n",
    "ax.set_xticklabels(['Позитивная', 'Негативная'])\n",
    "plt.savefig('results/age.png')\n",
    "\n",
    "# данные на рисунке"
   ],
   "metadata": {
    "collapsed": false,
    "ExecuteTime": {
     "end_time": "2024-01-18T05:21:10.172309661Z",
     "start_time": "2024-01-18T05:21:10.000829146Z"
    }
   },
   "id": "9633d73967f0c15b"
  },
  {
   "cell_type": "code",
   "execution_count": 93,
   "outputs": [
    {
     "data": {
      "text/plain": "                age\ntone               \nnegative  27.444377\npositive  27.598672",
      "text/html": "<div>\n<style scoped>\n    .dataframe tbody tr th:only-of-type {\n        vertical-align: middle;\n    }\n\n    .dataframe tbody tr th {\n        vertical-align: top;\n    }\n\n    .dataframe thead th {\n        text-align: right;\n    }\n</style>\n<table border=\"1\" class=\"dataframe\">\n  <thead>\n    <tr style=\"text-align: right;\">\n      <th></th>\n      <th>age</th>\n    </tr>\n    <tr>\n      <th>tone</th>\n      <th></th>\n    </tr>\n  </thead>\n  <tbody>\n    <tr>\n      <th>negative</th>\n      <td>27.444377</td>\n    </tr>\n    <tr>\n      <th>positive</th>\n      <td>27.598672</td>\n    </tr>\n  </tbody>\n</table>\n</div>"
     },
     "execution_count": 93,
     "metadata": {},
     "output_type": "execute_result"
    }
   ],
   "source": [
    "# средний возраст в группах\n",
    "\n",
    "comments.groupby('tone').aggregate({'age': 'mean'})"
   ],
   "metadata": {
    "collapsed": false,
    "ExecuteTime": {
     "end_time": "2024-01-18T05:21:31.962593647Z",
     "start_time": "2024-01-18T05:21:31.921794092Z"
    }
   },
   "id": "3ce32adb9819fe3f"
  },
  {
   "cell_type": "code",
   "execution_count": 94,
   "outputs": [
    {
     "data": {
      "text/plain": "               age\ntone              \nnegative  5.596413\npositive  4.848046",
      "text/html": "<div>\n<style scoped>\n    .dataframe tbody tr th:only-of-type {\n        vertical-align: middle;\n    }\n\n    .dataframe tbody tr th {\n        vertical-align: top;\n    }\n\n    .dataframe thead th {\n        text-align: right;\n    }\n</style>\n<table border=\"1\" class=\"dataframe\">\n  <thead>\n    <tr style=\"text-align: right;\">\n      <th></th>\n      <th>age</th>\n    </tr>\n    <tr>\n      <th>tone</th>\n      <th></th>\n    </tr>\n  </thead>\n  <tbody>\n    <tr>\n      <th>negative</th>\n      <td>5.596413</td>\n    </tr>\n    <tr>\n      <th>positive</th>\n      <td>4.848046</td>\n    </tr>\n  </tbody>\n</table>\n</div>"
     },
     "execution_count": 94,
     "metadata": {},
     "output_type": "execute_result"
    }
   ],
   "source": [
    "# разброс возраста в группах\n",
    "\n",
    "comments.groupby('tone').aggregate({'age': 'std'})"
   ],
   "metadata": {
    "collapsed": false,
    "ExecuteTime": {
     "end_time": "2024-01-18T05:22:08.238934680Z",
     "start_time": "2024-01-18T05:22:08.193803115Z"
    }
   },
   "id": "dd020d3e46bbf3cb"
  },
  {
   "cell_type": "code",
   "execution_count": null,
   "outputs": [],
   "source": [
    "\n",
    "plt.xlabel('Тональность группы')\n",
    "plt.ylabel('Возраст')\n",
    "\n",
    "plt.savefig('results/age.png')"
   ],
   "metadata": {
    "collapsed": false
   },
   "id": "c5809199dab646f1"
  },
  {
   "cell_type": "code",
   "execution_count": 88,
   "outputs": [
    {
     "name": "stdout",
     "output_type": "stream",
     "text": [
      "Mans in positive:  0.1555977229601518\n",
      "Mans in negative:  0.27383863080684595\n"
     ]
    }
   ],
   "source": [
    "# percent of mails in positive and negative groups\n",
    "\n",
    "positive_comments = comments[(comments['tone'] == 'positive') & (comments['sex'].isin([1, 2]))]\n",
    "negative_comments = comments[(comments['tone'] == 'negative') & (comments['sex'].isin([1, 2]))]\n",
    "\n",
    "print(\"Mans in positive: \", len(positive_comments[positive_comments['sex'] == 1])/len(positive_comments))\n",
    "\n",
    "print(\"Mans in negative: \", len(negative_comments[negative_comments['sex'] == 1])/len(negative_comments))\n"
   ],
   "metadata": {
    "collapsed": false,
    "ExecuteTime": {
     "end_time": "2024-01-18T05:04:24.564535597Z",
     "start_time": "2024-01-18T05:04:24.552339380Z"
    }
   },
   "id": "348c34d221bd420c"
  },
  {
   "cell_type": "markdown",
   "source": [
    "## Анализ текста комментариев"
   ],
   "metadata": {
    "collapsed": false
   },
   "id": "7c159e12294672c3"
  },
  {
   "cell_type": "code",
   "execution_count": 95,
   "outputs": [],
   "source": [
    "positive_comments = comments[comments['tone'] == 'positive']['text'].dropna()\n",
    "negative_comments = comments[comments['tone'] == 'negative']['text'].dropna()"
   ],
   "metadata": {
    "collapsed": false,
    "ExecuteTime": {
     "end_time": "2024-01-18T05:25:33.361118294Z",
     "start_time": "2024-01-18T05:25:33.276702613Z"
    }
   },
   "id": "bdbd9b784e64b074"
  },
  {
   "cell_type": "code",
   "execution_count": 107,
   "outputs": [],
   "source": [
    "# фильтруем союзы предлоги и тд, считаем частоту слов и фраз\n",
    "\n",
    "import pymorphy2\n",
    "import re\n",
    "\n",
    "morph = pymorphy2.MorphAnalyzer()\n",
    "\n",
    "def get_most_common_words(posts, n=1000):\n",
    "    words = []\n",
    "    for post in posts:\n",
    "        words += [morph.parse(\"\".join(filter(lambda x: x.isalpha(), word)))[0].normal_form for word in post.split() if len(word) > 3]\n",
    "    return pd.Series(words).value_counts()[:n]\n",
    "\n",
    "pos_words = get_most_common_words(positive_comments)"
   ],
   "metadata": {
    "collapsed": false,
    "ExecuteTime": {
     "end_time": "2024-01-18T05:29:49.903167562Z",
     "start_time": "2024-01-18T05:29:49.329344263Z"
    }
   },
   "id": "5fe43b882bfb8218"
  },
  {
   "cell_type": "code",
   "execution_count": 119,
   "outputs": [],
   "source": [
    "pos_words.to_csv('results/pos_words.csv')"
   ],
   "metadata": {
    "collapsed": false,
    "ExecuteTime": {
     "end_time": "2024-01-18T05:40:22.328573643Z",
     "start_time": "2024-01-18T05:40:22.310526628Z"
    }
   },
   "id": "828067c0c7c5d45c"
  },
  {
   "cell_type": "code",
   "execution_count": 120,
   "outputs": [],
   "source": [
    "neg_words = get_most_common_words(negative_comments)"
   ],
   "metadata": {
    "collapsed": false,
    "ExecuteTime": {
     "end_time": "2024-01-18T05:40:24.070805259Z",
     "start_time": "2024-01-18T05:40:23.079543484Z"
    }
   },
   "id": "20d9836d7dd9a06e"
  },
  {
   "cell_type": "code",
   "execution_count": 121,
   "outputs": [],
   "source": [
    "neg_words.to_csv('results/neg_words.csv')"
   ],
   "metadata": {
    "collapsed": false,
    "ExecuteTime": {
     "end_time": "2024-01-18T05:40:24.087465337Z",
     "start_time": "2024-01-18T05:40:24.075506961Z"
    }
   },
   "id": "73e99c27f8cb0e8"
  },
  {
   "cell_type": "code",
   "execution_count": 125,
   "outputs": [],
   "source": [
    "comments[['text', 'bdate', 'sex', 'topic', 'tone', 'age']].head().to_csv('results/comments_enriched_head.csv', index=False)"
   ],
   "metadata": {
    "collapsed": false,
    "ExecuteTime": {
     "end_time": "2024-01-18T08:20:55.153906716Z",
     "start_time": "2024-01-18T08:20:55.131900090Z"
    }
   },
   "id": "6ff791e7d994aec5"
  },
  {
   "cell_type": "code",
   "execution_count": 126,
   "outputs": [
    {
     "data": {
      "text/plain": "           id    from_id        date  \\\n0     1401322  414004816  1705452137   \n1     1401327  134843081  1705464956   \n2     1401259  155433074  1705400850   \n3     1400984  155433074  1705213199   \n4     1401134  783609516  1705309381   \n...       ...        ...         ...   \n2691  2322056  197839453  1702539416   \n2692  2322063   57176096  1702540111   \n2693  2322064  702761779  1702540138   \n2694  2322241  452375868  1702559774   \n2695  2322267  534866686  1702563203   \n\n                                                   text    post_id  \\\n0     Скиньте мне инструкцию. Не могу ответить ником...  1401319.0   \n1                                            Гениально!  1401319.0   \n2     Ну тут скорее: \"Он сам все сделает, а я пока ф...  1401214.0   \n3     Главное: Показать сопернику, что ты настроен с...  1400980.0   \n4                               Новый вид единоборств 😁  1400980.0   \n...                                                 ...        ...   \n2691                                  Жопа как у лошади  2322046.0   \n2692                                              🤣🤣🤣🤣🤣  2322046.0   \n2693                                Любовь победит ЗЛО👍  2322046.0   \n2694                                            Премию!  2322046.0   \n2695                                                😆😆😆  2322046.0   \n\n         owner_id parents_stack  thread.count thread.items  thread.can_post  \\\n0    -151060688.0            []             0           []             True   \n1    -151060688.0            []             0           []             True   \n2    -151060688.0            []             0           []             True   \n3    -151060688.0            []             0           []             True   \n4    -151060688.0            []             0           []             True   \n...           ...           ...           ...          ...              ...   \n2691 -170218556.0            []            12           []             True   \n2692 -170218556.0            []             0           []             True   \n2693 -170218556.0            []             0           []             True   \n2694 -170218556.0            []             0           []             True   \n2695 -170218556.0            []             0           []             True   \n\n      ...  attachments_meta.primary_mode deleted is_from_post_author  \\\n0     ...                            NaN     NaN                 NaN   \n1     ...                            NaN     NaN                 NaN   \n2     ...                            NaN     NaN                 NaN   \n3     ...                            NaN     NaN                 NaN   \n4     ...                            NaN     NaN                 NaN   \n...   ...                            ...     ...                 ...   \n2691  ...                            NaN     NaN                 NaN   \n2692  ...                            NaN     NaN                 NaN   \n2693  ...                            NaN     NaN                 NaN   \n2694  ...                            NaN     NaN                 NaN   \n2695  ...                            NaN     NaN                 NaN   \n\n     is_negative      bdate  sex    topic      tone   group_id  age  \n0            NaN  23.3.1999    2  science  positive  151060688   25  \n1            NaN   5.3.1991    2  science  positive  151060688   33  \n2            NaN  11.8.1999    2  science  positive  151060688   24  \n3            NaN  11.8.1999    2  science  positive  151060688   24  \n4            NaN   3.9.1995    2  science  positive  151060688   28  \n...          ...        ...  ...      ...       ...        ...  ...  \n2691         NaN  10.6.1996    1    trash  negative  170218556   28  \n2692         NaN  27.2.1991    2    trash  negative  170218556   33  \n2693         NaN  19.5.1988    2    trash  negative  170218556   36  \n2694         NaN  13.2.2001    1    trash  negative  170218556   23  \n2695         NaN  12.7.1989    1    trash  negative  170218556   34  \n\n[2690 rows x 24 columns]",
      "text/html": "<div>\n<style scoped>\n    .dataframe tbody tr th:only-of-type {\n        vertical-align: middle;\n    }\n\n    .dataframe tbody tr th {\n        vertical-align: top;\n    }\n\n    .dataframe thead th {\n        text-align: right;\n    }\n</style>\n<table border=\"1\" class=\"dataframe\">\n  <thead>\n    <tr style=\"text-align: right;\">\n      <th></th>\n      <th>id</th>\n      <th>from_id</th>\n      <th>date</th>\n      <th>text</th>\n      <th>post_id</th>\n      <th>owner_id</th>\n      <th>parents_stack</th>\n      <th>thread.count</th>\n      <th>thread.items</th>\n      <th>thread.can_post</th>\n      <th>...</th>\n      <th>attachments_meta.primary_mode</th>\n      <th>deleted</th>\n      <th>is_from_post_author</th>\n      <th>is_negative</th>\n      <th>bdate</th>\n      <th>sex</th>\n      <th>topic</th>\n      <th>tone</th>\n      <th>group_id</th>\n      <th>age</th>\n    </tr>\n  </thead>\n  <tbody>\n    <tr>\n      <th>0</th>\n      <td>1401322</td>\n      <td>414004816</td>\n      <td>1705452137</td>\n      <td>Скиньте мне инструкцию. Не могу ответить ником...</td>\n      <td>1401319.0</td>\n      <td>-151060688.0</td>\n      <td>[]</td>\n      <td>0</td>\n      <td>[]</td>\n      <td>True</td>\n      <td>...</td>\n      <td>NaN</td>\n      <td>NaN</td>\n      <td>NaN</td>\n      <td>NaN</td>\n      <td>23.3.1999</td>\n      <td>2</td>\n      <td>science</td>\n      <td>positive</td>\n      <td>151060688</td>\n      <td>25</td>\n    </tr>\n    <tr>\n      <th>1</th>\n      <td>1401327</td>\n      <td>134843081</td>\n      <td>1705464956</td>\n      <td>Гениально!</td>\n      <td>1401319.0</td>\n      <td>-151060688.0</td>\n      <td>[]</td>\n      <td>0</td>\n      <td>[]</td>\n      <td>True</td>\n      <td>...</td>\n      <td>NaN</td>\n      <td>NaN</td>\n      <td>NaN</td>\n      <td>NaN</td>\n      <td>5.3.1991</td>\n      <td>2</td>\n      <td>science</td>\n      <td>positive</td>\n      <td>151060688</td>\n      <td>33</td>\n    </tr>\n    <tr>\n      <th>2</th>\n      <td>1401259</td>\n      <td>155433074</td>\n      <td>1705400850</td>\n      <td>Ну тут скорее: \"Он сам все сделает, а я пока ф...</td>\n      <td>1401214.0</td>\n      <td>-151060688.0</td>\n      <td>[]</td>\n      <td>0</td>\n      <td>[]</td>\n      <td>True</td>\n      <td>...</td>\n      <td>NaN</td>\n      <td>NaN</td>\n      <td>NaN</td>\n      <td>NaN</td>\n      <td>11.8.1999</td>\n      <td>2</td>\n      <td>science</td>\n      <td>positive</td>\n      <td>151060688</td>\n      <td>24</td>\n    </tr>\n    <tr>\n      <th>3</th>\n      <td>1400984</td>\n      <td>155433074</td>\n      <td>1705213199</td>\n      <td>Главное: Показать сопернику, что ты настроен с...</td>\n      <td>1400980.0</td>\n      <td>-151060688.0</td>\n      <td>[]</td>\n      <td>0</td>\n      <td>[]</td>\n      <td>True</td>\n      <td>...</td>\n      <td>NaN</td>\n      <td>NaN</td>\n      <td>NaN</td>\n      <td>NaN</td>\n      <td>11.8.1999</td>\n      <td>2</td>\n      <td>science</td>\n      <td>positive</td>\n      <td>151060688</td>\n      <td>24</td>\n    </tr>\n    <tr>\n      <th>4</th>\n      <td>1401134</td>\n      <td>783609516</td>\n      <td>1705309381</td>\n      <td>Новый вид единоборств 😁</td>\n      <td>1400980.0</td>\n      <td>-151060688.0</td>\n      <td>[]</td>\n      <td>0</td>\n      <td>[]</td>\n      <td>True</td>\n      <td>...</td>\n      <td>NaN</td>\n      <td>NaN</td>\n      <td>NaN</td>\n      <td>NaN</td>\n      <td>3.9.1995</td>\n      <td>2</td>\n      <td>science</td>\n      <td>positive</td>\n      <td>151060688</td>\n      <td>28</td>\n    </tr>\n    <tr>\n      <th>...</th>\n      <td>...</td>\n      <td>...</td>\n      <td>...</td>\n      <td>...</td>\n      <td>...</td>\n      <td>...</td>\n      <td>...</td>\n      <td>...</td>\n      <td>...</td>\n      <td>...</td>\n      <td>...</td>\n      <td>...</td>\n      <td>...</td>\n      <td>...</td>\n      <td>...</td>\n      <td>...</td>\n      <td>...</td>\n      <td>...</td>\n      <td>...</td>\n      <td>...</td>\n      <td>...</td>\n    </tr>\n    <tr>\n      <th>2691</th>\n      <td>2322056</td>\n      <td>197839453</td>\n      <td>1702539416</td>\n      <td>Жопа как у лошади</td>\n      <td>2322046.0</td>\n      <td>-170218556.0</td>\n      <td>[]</td>\n      <td>12</td>\n      <td>[]</td>\n      <td>True</td>\n      <td>...</td>\n      <td>NaN</td>\n      <td>NaN</td>\n      <td>NaN</td>\n      <td>NaN</td>\n      <td>10.6.1996</td>\n      <td>1</td>\n      <td>trash</td>\n      <td>negative</td>\n      <td>170218556</td>\n      <td>28</td>\n    </tr>\n    <tr>\n      <th>2692</th>\n      <td>2322063</td>\n      <td>57176096</td>\n      <td>1702540111</td>\n      <td>🤣🤣🤣🤣🤣</td>\n      <td>2322046.0</td>\n      <td>-170218556.0</td>\n      <td>[]</td>\n      <td>0</td>\n      <td>[]</td>\n      <td>True</td>\n      <td>...</td>\n      <td>NaN</td>\n      <td>NaN</td>\n      <td>NaN</td>\n      <td>NaN</td>\n      <td>27.2.1991</td>\n      <td>2</td>\n      <td>trash</td>\n      <td>negative</td>\n      <td>170218556</td>\n      <td>33</td>\n    </tr>\n    <tr>\n      <th>2693</th>\n      <td>2322064</td>\n      <td>702761779</td>\n      <td>1702540138</td>\n      <td>Любовь победит ЗЛО👍</td>\n      <td>2322046.0</td>\n      <td>-170218556.0</td>\n      <td>[]</td>\n      <td>0</td>\n      <td>[]</td>\n      <td>True</td>\n      <td>...</td>\n      <td>NaN</td>\n      <td>NaN</td>\n      <td>NaN</td>\n      <td>NaN</td>\n      <td>19.5.1988</td>\n      <td>2</td>\n      <td>trash</td>\n      <td>negative</td>\n      <td>170218556</td>\n      <td>36</td>\n    </tr>\n    <tr>\n      <th>2694</th>\n      <td>2322241</td>\n      <td>452375868</td>\n      <td>1702559774</td>\n      <td>Премию!</td>\n      <td>2322046.0</td>\n      <td>-170218556.0</td>\n      <td>[]</td>\n      <td>0</td>\n      <td>[]</td>\n      <td>True</td>\n      <td>...</td>\n      <td>NaN</td>\n      <td>NaN</td>\n      <td>NaN</td>\n      <td>NaN</td>\n      <td>13.2.2001</td>\n      <td>1</td>\n      <td>trash</td>\n      <td>negative</td>\n      <td>170218556</td>\n      <td>23</td>\n    </tr>\n    <tr>\n      <th>2695</th>\n      <td>2322267</td>\n      <td>534866686</td>\n      <td>1702563203</td>\n      <td>😆😆😆</td>\n      <td>2322046.0</td>\n      <td>-170218556.0</td>\n      <td>[]</td>\n      <td>0</td>\n      <td>[]</td>\n      <td>True</td>\n      <td>...</td>\n      <td>NaN</td>\n      <td>NaN</td>\n      <td>NaN</td>\n      <td>NaN</td>\n      <td>12.7.1989</td>\n      <td>1</td>\n      <td>trash</td>\n      <td>negative</td>\n      <td>170218556</td>\n      <td>34</td>\n    </tr>\n  </tbody>\n</table>\n<p>2690 rows × 24 columns</p>\n</div>"
     },
     "execution_count": 126,
     "metadata": {},
     "output_type": "execute_result"
    }
   ],
   "source": [
    "comments.to_csv('results/comments_enriched.csv', index=False)"
   ],
   "metadata": {
    "collapsed": false,
    "ExecuteTime": {
     "end_time": "2024-01-18T08:32:36.169605743Z",
     "start_time": "2024-01-18T08:32:36.095975381Z"
    }
   },
   "id": "2a3cfc6ef940d033"
  },
  {
   "cell_type": "code",
   "execution_count": null,
   "outputs": [],
   "source": [],
   "metadata": {
    "collapsed": false
   },
   "id": "92dc14a1ea0bb408"
  }
 ],
 "metadata": {
  "kernelspec": {
   "display_name": "Python 3",
   "language": "python",
   "name": "python3"
  },
  "language_info": {
   "codemirror_mode": {
    "name": "ipython",
    "version": 2
   },
   "file_extension": ".py",
   "mimetype": "text/x-python",
   "name": "python",
   "nbconvert_exporter": "python",
   "pygments_lexer": "ipython2",
   "version": "2.7.6"
  }
 },
 "nbformat": 4,
 "nbformat_minor": 5
}
